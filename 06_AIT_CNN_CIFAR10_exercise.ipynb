{
  "nbformat": 4,
  "nbformat_minor": 0,
  "metadata": {
    "anaconda-cloud": {},
    "kernelspec": {
      "display_name": "Python 3",
      "language": "python",
      "name": "python3"
    },
    "language_info": {
      "codemirror_mode": {
        "name": "ipython",
        "version": 3
      },
      "file_extension": ".py",
      "mimetype": "text/x-python",
      "name": "python",
      "nbconvert_exporter": "python",
      "pygments_lexer": "ipython3",
      "version": "3.6.6"
    },
    "colab": {
      "provenance": [],
      "include_colab_link": true
    },
    "accelerator": "GPU"
  },
  "cells": [
    {
      "cell_type": "markdown",
      "metadata": {
        "id": "view-in-github",
        "colab_type": "text"
      },
      "source": [
        "<a href=\"https://colab.research.google.com/github/cedenoorlando991/DeepLearningAssessment1/blob/main/06_AIT_CNN_CIFAR10_exercise.ipynb\" target=\"_parent\"><img src=\"https://colab.research.google.com/assets/colab-badge.svg\" alt=\"Open In Colab\"/></a>"
      ]
    },
    {
      "cell_type": "markdown",
      "metadata": {
        "id": "cW-EyI5Lxpqi"
      },
      "source": [
        "# Copyright\n",
        "\n",
        "<PRE>\n",
        "Copyright (c) 2023 Bálint Gyires-Tóth - All Rights Reserved\n",
        "You may use and modify this code for research and development purpuses.\n",
        "Using this code for educational purposes (self-paced or instructor led) without the permission of the author is prohibited.\n",
        "</PRE>"
      ]
    },
    {
      "cell_type": "markdown",
      "source": [
        "# Convolutional Neural Network exercise\n",
        "\n",
        "In this notebook, you will build a convolutional neural network, which offers superior results over the previous MLP solution. Additionally, you will perform a more detailed evaluation.  "
      ],
      "metadata": {
        "id": "3EX4cCa4WKJu"
      }
    },
    {
      "cell_type": "code",
      "source": [
        "# imports \n",
        "from tensorflow.keras.datasets import cifar10\n",
        "from tensorflow.keras.utils import to_categorical\n",
        "import numpy as np\n",
        "import matplotlib.pyplot as plt\n",
        "from tensorflow.keras.models import Sequential\n",
        "from tensorflow.keras.layers import Dense, Conv2D, MaxPool2D, Flatten, Dropout, BatchNormalization\n",
        "from tensorflow.keras.initializers import HeNormal\n",
        "from tensorflow.keras.callbacks import EarlyStopping\n",
        "from tensorflow.keras.optimizers import Adam"
      ],
      "metadata": {
        "id": "GdCMhy4HA2qd"
      },
      "execution_count": 11,
      "outputs": []
    },
    {
      "cell_type": "markdown",
      "source": [
        "# 1. Data\n",
        "The dataset we will use is the well-known CIFAR10 (Canadian Institute For Advanced Research). Explore the details on the Keras website first: https://keras.io/api/datasets/cifar10/\n",
        "\n",
        "There isn't much difference between the data preprocessing part and the one we did before. The only difference is that we don't have to reshape images into vectors, but we are working with a 4 dimensional data structure, where the dimensions are: batch, X, Y, and color channels. \n",
        "\n",
        "In the event that anything is not clear regarding the data preparation part, please check the previous CIFAR10 notebook."
      ],
      "metadata": {
        "id": "yY9fztIeWIKt"
      }
    },
    {
      "cell_type": "code",
      "source": [
        "(X_train, Y_train), (X_test, Y_test) = cifar10.load_data()"
      ],
      "metadata": {
        "id": "bez7q0eiWQCK",
        "colab": {
          "base_uri": "https://localhost:8080/"
        },
        "outputId": "f8369e81-0d4e-4067-c813-f30189e963a2"
      },
      "execution_count": 2,
      "outputs": [
        {
          "output_type": "stream",
          "name": "stdout",
          "text": [
            "Downloading data from https://www.cs.toronto.edu/~kriz/cifar-10-python.tar.gz\n",
            "170498071/170498071 [==============================] - 2s 0us/step\n"
          ]
        }
      ]
    },
    {
      "cell_type": "code",
      "source": [
        "# it is in int8 format, the neural network requires float32\n",
        "X_train = X_train.astype(\"float32\")\n",
        "X_test = X_test.astype(\"float32\")"
      ],
      "metadata": {
        "id": "vukOcBM0XzSj"
      },
      "execution_count": 3,
      "outputs": []
    },
    {
      "cell_type": "code",
      "source": [
        "train_ratio  = 0.8\n",
        "train_length = X_train.shape[0]\n",
        "train_split  = int(train_ratio*train_length)\n",
        "X_valid, Y_valid = X_train[train_split:], Y_train[train_split:]\n",
        "X_train, Y_train = X_train[:train_split], Y_train[:train_split]"
      ],
      "metadata": {
        "id": "mRwuWxxIxLgN"
      },
      "execution_count": 4,
      "outputs": []
    },
    {
      "cell_type": "code",
      "source": [
        "mean = X_train.mean(axis=0)\n",
        "std  = X_train.std(axis=0)\n",
        "\n",
        "X_train = (X_train-mean)/std\n",
        "X_valid = (X_valid-mean)/std\n",
        "X_test  = (X_test-mean)/std"
      ],
      "metadata": {
        "id": "2ESLP1EIyB2J"
      },
      "execution_count": 5,
      "outputs": []
    },
    {
      "cell_type": "code",
      "source": [
        "nb_classes = len(np.unique(Y_train))\n",
        "Y_train = to_categorical(Y_train, nb_classes)\n",
        "Y_valid = to_categorical(Y_valid, nb_classes)\n",
        "Y_test  = to_categorical(Y_test, nb_classes)"
      ],
      "metadata": {
        "id": "xwZ4OJ6I8lba"
      },
      "execution_count": 6,
      "outputs": []
    },
    {
      "cell_type": "code",
      "source": [
        "print(\"Shapes of the training, validation and test input data:\", X_train.shape, X_valid.shape, X_test.shape)\n",
        "print(\"Shapes of the training, validation and test output data:\", Y_train.shape, Y_valid.shape, Y_test.shape)\n",
        "print(\"Mean values of the training, validation and test input data:\", X_train.mean(), X_valid.mean(), X_test.mean())\n",
        "print(\"Standard deviation of the training, validation and test input data:\", X_train.std(), X_valid.std(), X_test.std())"
      ],
      "metadata": {
        "id": "O_jdJVcvX0vi",
        "colab": {
          "base_uri": "https://localhost:8080/"
        },
        "outputId": "881bce4f-e5b3-4562-bc41-49aceadcbfd4"
      },
      "execution_count": 7,
      "outputs": [
        {
          "output_type": "stream",
          "name": "stdout",
          "text": [
            "Shapes of the training, validation and test input data: (40000, 32, 32, 3) (10000, 32, 32, 3) (10000, 32, 32, 3)\n",
            "Shapes of the training, validation and test output data: (40000, 10) (10000, 10) (10000, 10)\n",
            "Mean values of the training, validation and test input data: 2.2788842e-09 0.0023437198 0.013331206\n",
            "Standard deviation of the training, validation and test input data: 1.0000023 0.9965626 0.99783075\n"
          ]
        }
      ]
    },
    {
      "cell_type": "markdown",
      "metadata": {
        "id": "cJ14oyZExpqj"
      },
      "source": [
        "# 2. Exercise: training"
      ]
    },
    {
      "cell_type": "markdown",
      "source": [
        "Create and train a convolutional neural network with the following requirements:\n",
        "* apply early stopping with patience=5 and monitor the validation accuracy, don't forget to load back the best weights after early stopping\n",
        "* the number of trainable parameters is lower than 200.000\n",
        "* the validation accuracy must be higher than 72%\n",
        "\n",
        "Hints:\n",
        "* you can always inspect the number of trainable parameters per layer with model.summary()\n",
        "* usually the most trainable parameters are between the last convolutional layer and the next dense layer -- so you should have a reasonable output size at the last convolutional layer\n",
        "* regularization helps (e.g. DropOut and/or BatchNormalization)\n",
        "* use the right activation function at the output layer and the corresponding loss function\n",
        "* for the chosen activation functions, please use the appropriate initialization method\n",
        "* you can match the dimension of the last conv/pooling layer to the next dense layer with e.g. Flatten()\n",
        "* ADAM optimizer is a reasonable choice \n",
        "* don't forget to turn on GPU support in Colab, otherwise, it would be quite slow to train the networks\n",
        "\n"
      ],
      "metadata": {
        "id": "j1tGVPdD-pp3"
      }
    },
    {
      "cell_type": "code",
      "source": [
        "es = EarlyStopping(patience=5, restore_best_weights=True, verbose=1, monitor='val_accuracy') # early stopping"
      ],
      "metadata": {
        "id": "5dBQxJHIHrbd"
      },
      "execution_count": 8,
      "outputs": []
    },
    {
      "cell_type": "code",
      "source": [
        "\n",
        "model = Sequential()\n",
        "model.add(Conv2D(16, (3,3), activation='relu', padding='same', input_shape=X_train.shape[1:]))\n",
        "model.add(MaxPool2D(pool_size=(2,2)))\n",
        "model.add(Conv2D(32, (3,3), activation='relu', padding='same'))\n",
        "model.add(MaxPool2D(pool_size=(2,2)))\n",
        "model.add(Conv2D(64, (3,3), activation='relu', padding='same'))\n",
        "model.add(MaxPool2D(pool_size=(2,2)))\n",
        "model.add(Dropout(0.25))\n",
        "\n",
        "model.add(Flatten())\n",
        "model.add(Dense(128, activation='relu'))\n",
        "model.add(BatchNormalization())\n",
        "model.add(Dropout(0.5))\n",
        "model.add(Dense(nb_classes, activation='softmax'))\n",
        "\n",
        "# loss function and optimizer\n",
        "model.compile(loss='categorical_crossentropy', optimizer='adam', metrics=['accuracy'])"
      ],
      "metadata": {
        "id": "PuxHOqLt-3Nd"
      },
      "execution_count": 89,
      "outputs": []
    },
    {
      "cell_type": "code",
      "source": [
        "model.summary()"
      ],
      "metadata": {
        "id": "5eomQw8uE9Ix",
        "outputId": "fb0d2221-6ad6-4370-9c82-e6c02b8f608d",
        "colab": {
          "base_uri": "https://localhost:8080/"
        }
      },
      "execution_count": 90,
      "outputs": [
        {
          "output_type": "stream",
          "name": "stdout",
          "text": [
            "Model: \"sequential_34\"\n",
            "_________________________________________________________________\n",
            " Layer (type)                Output Shape              Param #   \n",
            "=================================================================\n",
            " conv2d_123 (Conv2D)         (None, 32, 32, 16)        448       \n",
            "                                                                 \n",
            " max_pooling2d_64 (MaxPoolin  (None, 16, 16, 16)       0         \n",
            " g2D)                                                            \n",
            "                                                                 \n",
            " conv2d_124 (Conv2D)         (None, 16, 16, 32)        4640      \n",
            "                                                                 \n",
            " max_pooling2d_65 (MaxPoolin  (None, 8, 8, 32)         0         \n",
            " g2D)                                                            \n",
            "                                                                 \n",
            " conv2d_125 (Conv2D)         (None, 8, 8, 64)          18496     \n",
            "                                                                 \n",
            " max_pooling2d_66 (MaxPoolin  (None, 4, 4, 64)         0         \n",
            " g2D)                                                            \n",
            "                                                                 \n",
            " dropout_41 (Dropout)        (None, 4, 4, 64)          0         \n",
            "                                                                 \n",
            " flatten_34 (Flatten)        (None, 1024)              0         \n",
            "                                                                 \n",
            " dense_74 (Dense)            (None, 128)               131200    \n",
            "                                                                 \n",
            " batch_normalization_71 (Bat  (None, 128)              512       \n",
            " chNormalization)                                                \n",
            "                                                                 \n",
            " dropout_42 (Dropout)        (None, 128)               0         \n",
            "                                                                 \n",
            " dense_75 (Dense)            (None, 10)                1290      \n",
            "                                                                 \n",
            "=================================================================\n",
            "Total params: 156,586\n",
            "Trainable params: 156,330\n",
            "Non-trainable params: 256\n",
            "_________________________________________________________________\n"
          ]
        }
      ]
    },
    {
      "cell_type": "markdown",
      "source": [
        "Please, check the number of trainable paramers:"
      ],
      "metadata": {
        "id": "8tIbIIeTEI41"
      }
    },
    {
      "cell_type": "code",
      "source": [
        "print(\"#trainable parameters:\",model.count_params())"
      ],
      "metadata": {
        "id": "xdBAG7EJETlX",
        "outputId": "8c4f6ba2-4808-40df-bf7c-d43708b20080",
        "colab": {
          "base_uri": "https://localhost:8080/"
        }
      },
      "execution_count": 91,
      "outputs": [
        {
          "output_type": "stream",
          "name": "stdout",
          "text": [
            "#trainable parameters: 156586\n"
          ]
        }
      ]
    },
    {
      "cell_type": "code",
      "source": [
        "# training\n",
        "network_history = model.fit(X_train, Y_train, epochs=100, validation_split=0.2, callbacks=[es])"
      ],
      "metadata": {
        "id": "u8tFNCNVHyt9",
        "outputId": "e68dc906-2aa7-4ccb-befd-2cf91e920399",
        "colab": {
          "base_uri": "https://localhost:8080/"
        }
      },
      "execution_count": 92,
      "outputs": [
        {
          "output_type": "stream",
          "name": "stdout",
          "text": [
            "Epoch 1/100\n",
            "1000/1000 [==============================] - 10s 6ms/step - loss: 1.7065 - accuracy: 0.4003 - val_loss: 1.2981 - val_accuracy: 0.5400\n",
            "Epoch 2/100\n",
            "1000/1000 [==============================] - 6s 6ms/step - loss: 1.2778 - accuracy: 0.5469 - val_loss: 1.1556 - val_accuracy: 0.5975\n",
            "Epoch 3/100\n",
            "1000/1000 [==============================] - 6s 6ms/step - loss: 1.1335 - accuracy: 0.6023 - val_loss: 1.0467 - val_accuracy: 0.6315\n",
            "Epoch 4/100\n",
            "1000/1000 [==============================] - 6s 6ms/step - loss: 1.0443 - accuracy: 0.6380 - val_loss: 0.9419 - val_accuracy: 0.6690\n",
            "Epoch 5/100\n",
            "1000/1000 [==============================] - 6s 6ms/step - loss: 0.9745 - accuracy: 0.6612 - val_loss: 0.9431 - val_accuracy: 0.6716\n",
            "Epoch 6/100\n",
            "1000/1000 [==============================] - 7s 7ms/step - loss: 0.9306 - accuracy: 0.6768 - val_loss: 0.9369 - val_accuracy: 0.6684\n",
            "Epoch 7/100\n",
            "1000/1000 [==============================] - 6s 6ms/step - loss: 0.8805 - accuracy: 0.6972 - val_loss: 0.8495 - val_accuracy: 0.7031\n",
            "Epoch 8/100\n",
            "1000/1000 [==============================] - 7s 7ms/step - loss: 0.8416 - accuracy: 0.7102 - val_loss: 0.8446 - val_accuracy: 0.7069\n",
            "Epoch 9/100\n",
            "1000/1000 [==============================] - 6s 6ms/step - loss: 0.8145 - accuracy: 0.7222 - val_loss: 0.8406 - val_accuracy: 0.7147\n",
            "Epoch 10/100\n",
            "1000/1000 [==============================] - 7s 7ms/step - loss: 0.7848 - accuracy: 0.7302 - val_loss: 0.8628 - val_accuracy: 0.6995\n",
            "Epoch 11/100\n",
            "1000/1000 [==============================] - 6s 6ms/step - loss: 0.7675 - accuracy: 0.7359 - val_loss: 0.8662 - val_accuracy: 0.7003\n",
            "Epoch 12/100\n",
            "1000/1000 [==============================] - 7s 7ms/step - loss: 0.7416 - accuracy: 0.7464 - val_loss: 0.8148 - val_accuracy: 0.7172\n",
            "Epoch 13/100\n",
            "1000/1000 [==============================] - 6s 6ms/step - loss: 0.7244 - accuracy: 0.7507 - val_loss: 0.8351 - val_accuracy: 0.7145\n",
            "Epoch 14/100\n",
            "1000/1000 [==============================] - 6s 6ms/step - loss: 0.7043 - accuracy: 0.7565 - val_loss: 0.8352 - val_accuracy: 0.7180\n",
            "Epoch 15/100\n",
            "1000/1000 [==============================] - 6s 6ms/step - loss: 0.6948 - accuracy: 0.7610 - val_loss: 0.8147 - val_accuracy: 0.7205\n",
            "Epoch 16/100\n",
            "1000/1000 [==============================] - 7s 7ms/step - loss: 0.6825 - accuracy: 0.7651 - val_loss: 0.7660 - val_accuracy: 0.7333\n",
            "Epoch 17/100\n",
            "1000/1000 [==============================] - 7s 7ms/step - loss: 0.6643 - accuracy: 0.7704 - val_loss: 0.7723 - val_accuracy: 0.7301\n",
            "Epoch 18/100\n",
            "1000/1000 [==============================] - 6s 6ms/step - loss: 0.6494 - accuracy: 0.7771 - val_loss: 0.7766 - val_accuracy: 0.7318\n",
            "Epoch 19/100\n",
            "1000/1000 [==============================] - 6s 6ms/step - loss: 0.6384 - accuracy: 0.7791 - val_loss: 0.7751 - val_accuracy: 0.7355\n",
            "Epoch 20/100\n",
            "1000/1000 [==============================] - 6s 6ms/step - loss: 0.6290 - accuracy: 0.7843 - val_loss: 0.7526 - val_accuracy: 0.7371\n",
            "Epoch 21/100\n",
            "1000/1000 [==============================] - 7s 7ms/step - loss: 0.6122 - accuracy: 0.7878 - val_loss: 0.7767 - val_accuracy: 0.7318\n",
            "Epoch 22/100\n",
            "1000/1000 [==============================] - 9s 9ms/step - loss: 0.6053 - accuracy: 0.7917 - val_loss: 0.7971 - val_accuracy: 0.7333\n",
            "Epoch 23/100\n",
            "1000/1000 [==============================] - 7s 7ms/step - loss: 0.5965 - accuracy: 0.7937 - val_loss: 0.7908 - val_accuracy: 0.7276\n",
            "Epoch 24/100\n",
            "1000/1000 [==============================] - 6s 6ms/step - loss: 0.5939 - accuracy: 0.7932 - val_loss: 0.7844 - val_accuracy: 0.7379\n",
            "Epoch 25/100\n",
            "1000/1000 [==============================] - 6s 6ms/step - loss: 0.5792 - accuracy: 0.7983 - val_loss: 0.7859 - val_accuracy: 0.7359\n",
            "Epoch 26/100\n",
            "1000/1000 [==============================] - 6s 6ms/step - loss: 0.5658 - accuracy: 0.8037 - val_loss: 0.7939 - val_accuracy: 0.7381\n",
            "Epoch 27/100\n",
            "1000/1000 [==============================] - 7s 7ms/step - loss: 0.5635 - accuracy: 0.8049 - val_loss: 0.8002 - val_accuracy: 0.7400\n",
            "Epoch 28/100\n",
            "1000/1000 [==============================] - 6s 6ms/step - loss: 0.5637 - accuracy: 0.8063 - val_loss: 0.8198 - val_accuracy: 0.7327\n",
            "Epoch 29/100\n",
            "1000/1000 [==============================] - 6s 6ms/step - loss: 0.5607 - accuracy: 0.8085 - val_loss: 0.7976 - val_accuracy: 0.7340\n",
            "Epoch 30/100\n",
            "1000/1000 [==============================] - 6s 6ms/step - loss: 0.5441 - accuracy: 0.8124 - val_loss: 0.7972 - val_accuracy: 0.7416\n",
            "Epoch 31/100\n",
            "1000/1000 [==============================] - 6s 6ms/step - loss: 0.5349 - accuracy: 0.8148 - val_loss: 0.8127 - val_accuracy: 0.7421\n",
            "Epoch 32/100\n",
            "1000/1000 [==============================] - 6s 6ms/step - loss: 0.5309 - accuracy: 0.8167 - val_loss: 0.7845 - val_accuracy: 0.7451\n",
            "Epoch 33/100\n",
            "1000/1000 [==============================] - 6s 6ms/step - loss: 0.5232 - accuracy: 0.8177 - val_loss: 0.7839 - val_accuracy: 0.7449\n",
            "Epoch 34/100\n",
            "1000/1000 [==============================] - 6s 6ms/step - loss: 0.5133 - accuracy: 0.8195 - val_loss: 0.7969 - val_accuracy: 0.7401\n",
            "Epoch 35/100\n",
            "1000/1000 [==============================] - 7s 7ms/step - loss: 0.5165 - accuracy: 0.8228 - val_loss: 0.8044 - val_accuracy: 0.7423\n",
            "Epoch 36/100\n",
            "1000/1000 [==============================] - 6s 6ms/step - loss: 0.5039 - accuracy: 0.8240 - val_loss: 0.7944 - val_accuracy: 0.7430\n",
            "Epoch 37/100\n",
            " 994/1000 [============================>.] - ETA: 0s - loss: 0.5024 - accuracy: 0.8256Restoring model weights from the end of the best epoch: 32.\n",
            "1000/1000 [==============================] - 7s 7ms/step - loss: 0.5014 - accuracy: 0.8259 - val_loss: 0.8396 - val_accuracy: 0.7355\n",
            "Epoch 37: early stopping\n"
          ]
        }
      ]
    },
    {
      "cell_type": "markdown",
      "source": [
        "# 3. Exercise: evaluation on test data\n",
        "You will evaluate the classification of the test data using the common metrics and the confusion matrix in this section. \n",
        "\n",
        "\n",
        "As a first stes, let's run the predictions and convert the predicted softmax outputs to dense labels. The one-hot encoded labels are also converted back to dense labels, as they are required for the evaluation functions."
      ],
      "metadata": {
        "id": "2FtKp-a2-A9m"
      }
    },
    {
      "cell_type": "code",
      "source": [
        "probas = model.predict(X_test)\n",
        "preds  = np.argmax(probas,axis=1)\n",
        "Y_test_dense = np.argmax(Y_test, axis=1) # get the original dense labels of the test data"
      ],
      "metadata": {
        "id": "EcWAqwlDMq3y",
        "outputId": "02ae68bb-a4b7-4a30-d6cf-3944be454333",
        "colab": {
          "base_uri": "https://localhost:8080/"
        }
      },
      "execution_count": 93,
      "outputs": [
        {
          "output_type": "stream",
          "name": "stdout",
          "text": [
            "313/313 [==============================] - 1s 2ms/step\n"
          ]
        }
      ]
    },
    {
      "cell_type": "markdown",
      "source": [
        "## 3.1. Exercise: Metrics\n",
        "please review the common classification metrics (accuracy, precision, recall, F1) for the complete model (not per class). \n",
        "\n",
        "Hints:\n",
        "* use macro averaging\n",
        "* you have to import the right functions from [sklearn.metrics](https://scikit-learn.org/stable/modules/model_evaluation.html)\n"
      ],
      "metadata": {
        "id": "RWJ-PH_iMs9K"
      }
    },
    {
      "cell_type": "code",
      "source": [
        "from sklearn.metrics import accuracy_score, precision_score, recall_score, f1_score"
      ],
      "metadata": {
        "id": "5sKm5zHSMZ_x"
      },
      "execution_count": 94,
      "outputs": []
    },
    {
      "cell_type": "code",
      "source": [
        "print(\"Accuracy:\",accuracy_score(Y_test_dense, preds))\n",
        "print(\"Precision:\",precision_score(Y_test_dense, preds, average='macro'))\n",
        "print(\"Recall:\",recall_score(Y_test_dense, preds, average='macro'))\n",
        "print(\"F1:\",f1_score(Y_test_dense, preds, average='macro'))"
      ],
      "metadata": {
        "id": "I3_9wgDREUna",
        "outputId": "528366ed-326a-48e3-b451-96ca7f3a988c",
        "colab": {
          "base_uri": "https://localhost:8080/"
        }
      },
      "execution_count": 95,
      "outputs": [
        {
          "output_type": "stream",
          "name": "stdout",
          "text": [
            "Accuracy: 0.7492\n",
            "Precision: 0.7522230543794117\n",
            "Recall: 0.7492000000000001\n",
            "F1: 0.7491975745485537\n"
          ]
        }
      ]
    },
    {
      "cell_type": "markdown",
      "source": [
        "\n",
        "## 3.2. Exercise: Confusion matrix\n",
        "Calculate the confusion matrix and display the results in a heatmap (with decimal values).\n",
        "\n",
        "Hints:\n",
        "* you have to do the imports this time too, e.g. from [sklearn.metrics](https://scikit-learn.org/stable/modules/model_evaluation.html) and the [heatmap function](https://seaborn.pydata.org/generated/seaborn.heatmap.html) of [seaborn](https://seaborn.pydata.org/)\n",
        "* for displaying the decimal values, you have to turn annot=True and define fmt='d' in the heatmap function of seaborn"
      ],
      "metadata": {
        "id": "ECHguBFtGL7f"
      }
    },
    {
      "cell_type": "code",
      "source": [
        "from sklearn.metrics import confusion_matrix\n",
        "import seaborn as sns"
      ],
      "metadata": {
        "id": "SIi2VzMBO3yD"
      },
      "execution_count": 96,
      "outputs": []
    },
    {
      "cell_type": "code",
      "metadata": {
        "id": "cdqODx92Svw7",
        "outputId": "b7d3d9d3-bf76-4f1c-ab7f-81e8af237700",
        "colab": {
          "base_uri": "https://localhost:8080/",
          "height": 392
        }
      },
      "source": [
        "conf = confusion_matrix(Y_test_dense, preds)\n",
        "plt.figure(figsize=(7,6))\n",
        "sns.heatmap(conf, annot=True, cmap='Blues', fmt='g')"
      ],
      "execution_count": 97,
      "outputs": [
        {
          "output_type": "execute_result",
          "data": {
            "text/plain": [
              "<Axes: >"
            ]
          },
          "metadata": {},
          "execution_count": 97
        },
        {
          "output_type": "display_data",
          "data": {
            "text/plain": [
              "<Figure size 504x432 with 2 Axes>"
            ],
            "image/png": "[encoded data removed]"
          },
          "metadata": {
            "needs_background": "light"
          }
        }
      ]
    }
  ]
}