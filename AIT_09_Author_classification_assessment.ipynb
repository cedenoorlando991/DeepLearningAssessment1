{
  "nbformat": 4,
  "nbformat_minor": 0,
  "metadata": {
    "kernelspec": {
      "display_name": "Python 3",
      "language": "python",
      "name": "python3"
    },
    "language_info": {
      "codemirror_mode": {
        "name": "ipython",
        "version": 3
      },
      "file_extension": ".py",
      "mimetype": "text/x-python",
      "name": "python",
      "nbconvert_exporter": "python",
      "pygments_lexer": "ipython3",
      "version": "3.6.6"
    },
    "colab": {
      "provenance": [],
      "include_colab_link": true
    }
  },
  "cells": [
    {
      "cell_type": "markdown",
      "metadata": {
        "id": "view-in-github",
        "colab_type": "text"
      },
      "source": [
        "<a href=\"https://colab.research.google.com/github/cedenoorlando991/DeepLearningAssessment1/blob/main/AIT_09_Author_classification_assessment.ipynb\" target=\"_parent\"><img src=\"https://colab.research.google.com/assets/colab-badge.svg\" alt=\"Open In Colab\"/></a>"
      ]
    },
    {
      "cell_type": "markdown",
      "metadata": {
        "id": "_jiGtJu6u9ml"
      },
      "source": [
        "# Copyright\n",
        "\n",
        "<PRE>\n",
        "Copyright (c) 2023 Bálint Gyires-Tóth - All Rights Reserved\n",
        "You may use and modify this code for research and development purpuses.\n",
        "Use this code for educational purposes (self-paced or instructor led) without the permission of the author is prohibited.\n",
        "</PRE>"
      ]
    },
    {
      "cell_type": "markdown",
      "metadata": {
        "id": "oXyFC44jV-PP"
      },
      "source": [
        "# Author classification\n",
        "The task is to train a 1D CNN or an LSTM that is able to  classify text from two authors. The final model should be able to tell about a text with a given length (e.g. 60 characters) who wrote it. \n",
        "\n",
        "Please write the codes according to the following parts:"
      ]
    },
    {
      "cell_type": "markdown",
      "metadata": {
        "id": "jCnLoeGrHXsp"
      },
      "source": [
        "## Python module imports\n",
        "Import all Python modules that you would need during the Assignment."
      ]
    },
    {
      "cell_type": "code",
      "metadata": {
        "id": "7itbFGt3HXVT"
      },
      "source": [
        "\n",
        "import numpy as np\n",
        "import pandas as pd\n",
        "from tensorflow.keras.models import Sequential\n",
        "from tensorflow.keras.utils import to_categorical\n",
        "from tensorflow.keras.layers import Activation, Dense, Flatten, Conv1D, MaxPooling1D, Dropout\n",
        "from tensorflow.keras.callbacks import EarlyStopping\n",
        "from tensorflow.keras.optimizers import SGD\n",
        "from tensorflow.keras.preprocessing.text import Tokenizer\n",
        "from tensorflow.keras.preprocessing.sequence import pad_sequences\n",
        "import matplotlib.pyplot as plt\n",
        "import seaborn as sns\n",
        "from sklearn.model_selection import train_test_split\n",
        "\n"
      ],
      "execution_count": 3,
      "outputs": []
    },
    {
      "cell_type": "markdown",
      "metadata": {
        "id": "Hr617tEpHd8R"
      },
      "source": [
        "## Data acquisition\n",
        "Seek a possible dataset, you can use any source, e.g.\n",
        "* http://www.gutenberg.org/\n",
        "* https://www.kaggle.com/datasets\n",
        "* https://paperswithcode.com/datasets\n",
        "* if you would like to learn Hungarian, than e.g. https://mek.oszk.hu/\n",
        "\n",
        "You can download the text by hand (e.g. by copy-pasting some parts into txt files) or with Python. "
      ]
    },
    {
      "cell_type": "code",
      "source": [
        "from google.colab import drive\n",
        "drive.mount('/content/drive')"
      ],
      "metadata": {
        "id": "XSfATXGm7vLN",
        "outputId": "0d7b1f90-95dc-4979-f610-8dcd30e9bb38",
        "colab": {
          "base_uri": "https://localhost:8080/"
        }
      },
      "execution_count": 4,
      "outputs": [
        {
          "output_type": "stream",
          "name": "stdout",
          "text": [
            "Drive already mounted at /content/drive; to attempt to forcibly remount, call drive.mount(\"/content/drive\", force_remount=True).\n"
          ]
        }
      ]
    },
    {
      "cell_type": "code",
      "metadata": {
        "id": "NgkdQxHqHdZB"
      },
      "source": [
        "\n",
        "train_data = pd.read_csv('/content/drive/MyDrive/data/train.csv')\n",
        "test_data = pd.read_csv('/content/drive/MyDrive/data/test.csv')"
      ],
      "execution_count": 9,
      "outputs": []
    },
    {
      "cell_type": "markdown",
      "source": [
        "## Data analysis\n",
        "Count the number of characters from both authors and display them on a plot (e.g. Seaborn's countplot)."
      ],
      "metadata": {
        "id": "U9Pmq91t3SRD"
      }
    },
    {
      "cell_type": "code",
      "source": [
        "train_poe_chars = sum(train_data[train_data['author'] == 'EAP']['text'].str.len())\n",
        "train_lovecraft_chars = sum(train_data[train_data['author'] == 'HPL']['text'].str.len())\n",
        "\n",
        "authors = ['Edgar Allan Poe', 'H. P. Lovecraft']\n",
        "train_counts = [train_poe_chars, train_lovecraft_chars]\n",
        "fig, ax = plt.subplots()\n",
        "ax.bar(authors, train_counts)\n",
        "ax.set_xlabel('Author')\n",
        "ax.set_ylabel('Character Count')\n",
        "ax.set_title('Character Counts by Author')\n",
        "plt.show()"
      ],
      "metadata": {
        "id": "uRqGdn4F3Spk",
        "outputId": "d4704a72-6fa7-4998-9e3e-8ebf349dfd60",
        "colab": {
          "base_uri": "https://localhost:8080/",
          "height": 472
        }
      },
      "execution_count": 12,
      "outputs": [
        {
          "output_type": "display_data",
          "data": {
            "text/plain": [
              "<Figure size 640x480 with 1 Axes>"
            ],
            "image/png": "[encoded data removed]"
          },
          "metadata": {}
        }
      ]
    },
    {
      "cell_type": "markdown",
      "metadata": {
        "id": "cHyE_ndGIblJ"
      },
      "source": [
        "## Data loading, labeling and preprocessing\n",
        "Load the data and convert the characters into one-hot encodings. Then load the data into a 3D NumPy array, with a shape of\n",
        "\n",
        "* (batch, sequence_length, alphabet_length)\n",
        "\n",
        "where sequence_length=60, and alphabet_length equals to the number of unique characters in both datasets. The sequences should be cut out from the complete dataset by sliding window. You should add 0 and 1 labels to the sequences, according to the author. \n",
        "\n",
        "Later you may change sequence_length to achieve better results!"
      ]
    },
    {
      "cell_type": "markdown",
      "source": [
        "This code block was assisted using chatGPT :) my test set didn't have a 'author' column so converting the entire dataset into one-hot encodings was difficult.\n"
      ],
      "metadata": {
        "id": "9JIkyXckJR6j"
      }
    },
    {
      "cell_type": "code",
      "metadata": {
        "id": "arooXt0WIb6x",
        "outputId": "b658fd18-a812-450a-97ef-557e5427990e",
        "colab": {
          "base_uri": "https://localhost:8080/"
        }
      },
      "source": [
        "import tensorflow.keras.utils as ku\n",
        "\n",
        "combined_data = pd.concat([train_data, test_data])\n",
        "\n",
        "unique_chars = sorted(set(''.join(combined_data['text'].values)))\n",
        "\n",
        "char_to_index = dict((c, i) for i, c in enumerate(unique_chars))\n",
        "\n",
        "max_seq_length = 60\n",
        "\n",
        "def text_to_one_hot(text, max_seq_length, char_to_index):\n",
        "    sequence = [char_to_index[c] for c in text if c in char_to_index]\n",
        "    sequence = sequence[:max_seq_length] + [0] * (max_seq_length - len(sequence))\n",
        "    one_hot = ku.to_categorical(sequence, num_classes=len(char_to_index))\n",
        "    return one_hot\n",
        "\n",
        "def generate_dataset(data, max_seq_length, char_to_index):\n",
        "    sequences = []\n",
        "    labels = []\n",
        "    if 'author' in data.columns:\n",
        "        for i, row in data.iterrows():\n",
        "            text = row['text']\n",
        "            author = row['author']\n",
        "            sequence = text_to_one_hot(text, max_seq_length, char_to_index)\n",
        "            sequences.append(sequence)\n",
        "            if author == 'EAP':\n",
        "                label = [1, 0]\n",
        "            elif author == 'HPL':\n",
        "                label = [0, 1]\n",
        "            labels.append(label)\n",
        "    else:\n",
        "        for i, row in data.iterrows():\n",
        "            text = row['text']\n",
        "            sequence = text_to_one_hot(text, max_seq_length, char_to_index)\n",
        "            sequences.append(sequence)\n",
        "            labels.append([0, 0])\n",
        "    return np.array(sequences), np.array(labels)\n",
        "\n",
        "\n",
        "train_sequences, train_labels = generate_dataset(train_data, max_seq_length, char_to_index)\n",
        "test_sequences, test_labels = generate_dataset(test_data, max_seq_length, char_to_index)\n",
        "\n",
        "print(\"Training set shape:\", train_sequences.shape, train_labels.shape)\n",
        "print(\"Test set shape:\", test_sequences.shape, test_labels.shape)\n",
        "\n"
      ],
      "execution_count": 41,
      "outputs": [
        {
          "output_type": "stream",
          "name": "stdout",
          "text": [
            "Training set shape: (19579, 60, 87) (19579, 2)\n",
            "Test set shape: (8392, 60, 87) (8392, 2)\n"
          ]
        }
      ]
    },
    {
      "cell_type": "markdown",
      "metadata": {
        "id": "lL1Mc8ibHnep"
      },
      "source": [
        "## Data splitting\n",
        "Split the data into train, validate and test sets. Make "
      ]
    },
    {
      "cell_type": "code",
      "metadata": {
        "id": "ELyG9XFUHrkB"
      },
      "source": [
        "train_sequences, val_sequences, train_labels, val_labels = train_test_split(\n",
        "    train_sequences, train_labels, test_size=0.2, random_state=42)\n"
      ],
      "execution_count": 43,
      "outputs": []
    },
    {
      "cell_type": "markdown",
      "metadata": {
        "id": "hA8U9tr7HrNQ"
      },
      "source": [
        "## Model definition\n",
        "Define a 1D CNN or an LSTM for the task. Compile the model with the correct loss function."
      ]
    },
    {
      "cell_type": "code",
      "metadata": {
        "id": "BT1V1s4kHuUe"
      },
      "source": [
        "from tensorflow.keras.layers import LSTM, Dense, Dropout\n",
        "\n",
        "model = Sequential()\n",
        "model.add(LSTM(128, input_shape=(max_seq_length, len(char_to_index))))\n",
        "model.add(Dropout(0.2))\n",
        "model.add(Dense(2, activation='softmax'))\n",
        "\n",
        "model.compile(loss='categorical_crossentropy', optimizer='adam', metrics=['accuracy'])"
      ],
      "execution_count": 44,
      "outputs": []
    },
    {
      "cell_type": "markdown",
      "metadata": {
        "id": "hWFb-nAMHuAI"
      },
      "source": [
        "## Model training\n",
        "Train the model and apply early stopping."
      ]
    },
    {
      "cell_type": "code",
      "metadata": {
        "id": "dvgKjqp3Hwkp",
        "outputId": "9a2b080a-f88a-45ec-ca16-78b2234467e1",
        "colab": {
          "base_uri": "https://localhost:8080/"
        }
      },
      "source": [
        "early_stopping = EarlyStopping(monitor='val_loss', patience=3)\n",
        "\n",
        "history = model.fit(train_sequences, train_labels, \n",
        "                    validation_data=(val_sequences, val_labels),\n",
        "                    epochs=20, batch_size=128, callbacks=[early_stopping])"
      ],
      "execution_count": 34,
      "outputs": [
        {
          "output_type": "stream",
          "name": "stdout",
          "text": [
            "Epoch 1/20\n",
            "123/123 [==============================] - 31s 234ms/step - loss: 0.6706 - accuracy: 0.5871 - val_loss: 0.6610 - val_accuracy: 0.6134\n",
            "Epoch 2/20\n",
            "123/123 [==============================] - 29s 235ms/step - loss: 0.6532 - accuracy: 0.6174 - val_loss: 0.6470 - val_accuracy: 0.6274\n",
            "Epoch 3/20\n",
            "123/123 [==============================] - 28s 230ms/step - loss: 0.6484 - accuracy: 0.6256 - val_loss: 0.6495 - val_accuracy: 0.6233\n",
            "Epoch 4/20\n",
            "123/123 [==============================] - 30s 245ms/step - loss: 0.6400 - accuracy: 0.6328 - val_loss: 0.6457 - val_accuracy: 0.6236\n",
            "Epoch 5/20\n",
            "123/123 [==============================] - 29s 239ms/step - loss: 0.6377 - accuracy: 0.6363 - val_loss: 0.6471 - val_accuracy: 0.6251\n",
            "Epoch 6/20\n",
            "123/123 [==============================] - 30s 247ms/step - loss: 0.6367 - accuracy: 0.6389 - val_loss: 0.6417 - val_accuracy: 0.6269\n",
            "Epoch 7/20\n",
            "123/123 [==============================] - 28s 231ms/step - loss: 0.6350 - accuracy: 0.6377 - val_loss: 0.6403 - val_accuracy: 0.6343\n",
            "Epoch 8/20\n",
            "123/123 [==============================] - 28s 229ms/step - loss: 0.6341 - accuracy: 0.6430 - val_loss: 0.6451 - val_accuracy: 0.6239\n",
            "Epoch 9/20\n",
            "123/123 [==============================] - 29s 238ms/step - loss: 0.6338 - accuracy: 0.6414 - val_loss: 0.6430 - val_accuracy: 0.6193\n",
            "Epoch 10/20\n",
            "123/123 [==============================] - 29s 237ms/step - loss: 0.6328 - accuracy: 0.6465 - val_loss: 0.6573 - val_accuracy: 0.6037\n"
          ]
        }
      ]
    },
    {
      "cell_type": "markdown",
      "metadata": {
        "id": "0omw2XzSHwOo"
      },
      "source": [
        "## Evaluation on test data\n",
        "Evaluate the model on the test data in terms of loss and accuracy."
      ]
    },
    {
      "cell_type": "code",
      "metadata": {
        "id": "4bF3dQA1Hv_R",
        "outputId": "9ba45ba2-a8d5-4b8a-a18e-0fe460c97f5d",
        "colab": {
          "base_uri": "https://localhost:8080/"
        }
      },
      "source": [
        "loss, accuracy = model.evaluate(test_sequences, test_labels)\n",
        "\n",
        "print(\"Test Loss:\", loss)\n",
        "print(\"Test Accuracy:\", accuracy)"
      ],
      "execution_count": 45,
      "outputs": [
        {
          "output_type": "stream",
          "name": "stdout",
          "text": [
            "263/263 [==============================] - 10s 33ms/step - loss: 0.0000e+00 - accuracy: 0.8855\n",
            "Test Loss: 0.0\n",
            "Test Accuracy: 0.8854861855506897\n"
          ]
        }
      ]
    },
    {
      "cell_type": "markdown",
      "metadata": {
        "id": "4Y73Q-h5Hz1r"
      },
      "source": [
        "## Confusion matrix\n",
        "Calculate and display the confusion matrix."
      ]
    },
    {
      "cell_type": "code",
      "metadata": {
        "id": "cW8zZi1uJm2B",
        "outputId": "33156789-e91d-4de7-bbed-ab880c5f14f3",
        "colab": {
          "base_uri": "https://localhost:8080/"
        }
      },
      "source": [
        "from sklearn.metrics import confusion_matrix\n",
        "\n",
        "y_pred = model.predict(test_sequences)\n",
        "\n",
        "y_pred_labels = np.argmax(y_pred, axis=1)\n",
        "test_labels_labels = np.argmax(test_labels, axis=1)\n",
        "\n",
        "cm = confusion_matrix(test_labels_labels, y_pred_labels)\n",
        "\n",
        "print(cm)"
      ],
      "execution_count": 46,
      "outputs": [
        {
          "output_type": "stream",
          "name": "stdout",
          "text": [
            "263/263 [==============================] - 9s 32ms/step\n",
            "[[7431  961]\n",
            " [   0    0]]\n"
          ]
        }
      ]
    }
  ]
}